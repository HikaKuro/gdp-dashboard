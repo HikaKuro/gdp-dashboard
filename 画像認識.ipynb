{
  "nbformat": 4,
  "nbformat_minor": 0,
  "metadata": {
    "colab": {
      "provenance": [],
      "toc_visible": true,
      "authorship_tag": "ABX9TyOZuabrAmJrhKCd1+Uu7+5o",
      "include_colab_link": true
    },
    "kernelspec": {
      "name": "python3",
      "display_name": "Python 3"
    },
    "language_info": {
      "name": "python"
    }
  },
  "cells": [
    {
      "cell_type": "markdown",
      "metadata": {
        "id": "view-in-github",
        "colab_type": "text"
      },
      "source": [
        "<a href=\"https://colab.research.google.com/github/HikaKuro/gdp-dashboard/blob/main/%E7%94%BB%E5%83%8F%E8%AA%8D%E8%AD%98.ipynb\" target=\"_parent\"><img src=\"https://colab.research.google.com/assets/colab-badge.svg\" alt=\"Open In Colab\"/></a>"
      ]
    },
    {
      "cell_type": "code",
      "execution_count": 4,
      "metadata": {
        "colab": {
          "base_uri": "https://localhost:8080/"
        },
        "id": "3HnqiYuNzmEd",
        "outputId": "9547fbaf-270e-48ca-c4c1-ab76155fc684"
      },
      "outputs": [
        {
          "output_type": "stream",
          "name": "stdout",
          "text": [
            "Requirement already satisfied: azure-cognitiveservices-vision-computervision in /usr/local/lib/python3.11/dist-packages (0.9.1)\n",
            "Requirement already satisfied: msrest>=0.6.21 in /usr/local/lib/python3.11/dist-packages (from azure-cognitiveservices-vision-computervision) (0.7.1)\n",
            "Requirement already satisfied: azure-common~=1.1 in /usr/local/lib/python3.11/dist-packages (from azure-cognitiveservices-vision-computervision) (1.1.28)\n",
            "Requirement already satisfied: azure-core>=1.24.0 in /usr/local/lib/python3.11/dist-packages (from msrest>=0.6.21->azure-cognitiveservices-vision-computervision) (1.34.0)\n",
            "Requirement already satisfied: certifi>=2017.4.17 in /usr/local/lib/python3.11/dist-packages (from msrest>=0.6.21->azure-cognitiveservices-vision-computervision) (2025.4.26)\n",
            "Requirement already satisfied: isodate>=0.6.0 in /usr/local/lib/python3.11/dist-packages (from msrest>=0.6.21->azure-cognitiveservices-vision-computervision) (0.7.2)\n",
            "Requirement already satisfied: requests-oauthlib>=0.5.0 in /usr/local/lib/python3.11/dist-packages (from msrest>=0.6.21->azure-cognitiveservices-vision-computervision) (2.0.0)\n",
            "Requirement already satisfied: requests~=2.16 in /usr/local/lib/python3.11/dist-packages (from msrest>=0.6.21->azure-cognitiveservices-vision-computervision) (2.32.3)\n",
            "Requirement already satisfied: six>=1.11.0 in /usr/local/lib/python3.11/dist-packages (from azure-core>=1.24.0->msrest>=0.6.21->azure-cognitiveservices-vision-computervision) (1.17.0)\n",
            "Requirement already satisfied: typing-extensions>=4.6.0 in /usr/local/lib/python3.11/dist-packages (from azure-core>=1.24.0->msrest>=0.6.21->azure-cognitiveservices-vision-computervision) (4.13.2)\n",
            "Requirement already satisfied: charset-normalizer<4,>=2 in /usr/local/lib/python3.11/dist-packages (from requests~=2.16->msrest>=0.6.21->azure-cognitiveservices-vision-computervision) (3.4.2)\n",
            "Requirement already satisfied: idna<4,>=2.5 in /usr/local/lib/python3.11/dist-packages (from requests~=2.16->msrest>=0.6.21->azure-cognitiveservices-vision-computervision) (3.10)\n",
            "Requirement already satisfied: urllib3<3,>=1.21.1 in /usr/local/lib/python3.11/dist-packages (from requests~=2.16->msrest>=0.6.21->azure-cognitiveservices-vision-computervision) (2.4.0)\n",
            "Requirement already satisfied: oauthlib>=3.0.0 in /usr/local/lib/python3.11/dist-packages (from requests-oauthlib>=0.5.0->msrest>=0.6.21->azure-cognitiveservices-vision-computervision) (3.2.2)\n",
            "Requirement already satisfied: pillow in /usr/local/lib/python3.11/dist-packages (11.2.1)\n"
          ]
        }
      ],
      "source": [
        "!pip3 install --upgrade azure-cognitiveservices-vision-computervision\n",
        "!pip3 install pillow"
      ]
    },
    {
      "cell_type": "code",
      "source": [
        "from azure.cognitiveservices.vision.computervision import ComputerVisionClient\n",
        "from azure.cognitiveservices.vision.computervision.models import OperationStatusCodes\n",
        "from azure.cognitiveservices.vision.computervision.models import VisualFeatureTypes\n",
        "from msrest.authentication import CognitiveServicesCredentials\n",
        "\n",
        "from array import array\n",
        "import os\n",
        "from PIL import Image\n",
        "import sys\n",
        "import time\n",
        "\n",
        "'''\n",
        "Authenticate\n",
        "Authenticates your credentials and creates a client.\n",
        "'''\n",
        "subscription_key = \"7Zl1YplzubtrPEydTYEkXWKwo6Tt7yOUQeYizsXw3Ko9eWTf0MLEJQQJ99BFACi0881XJ3w3AAAFACOGmyF9\"\n",
        "endpoint = \"https://20250602hikakuro.cognitiveservices.azure.com/\"\n",
        "\n",
        "computervision_client = ComputerVisionClient(endpoint, CognitiveServicesCredentials(subscription_key))\n",
        "'''\n",
        "END - Authenticate\n",
        "'''\n",
        "\n",
        "'''\n",
        "OCR: Read File using the Read API, extract text - remote\n",
        "This example will extract text in an image, then print results, line by line.\n",
        "This API call can also extract handwriting style text (not shown).\n",
        "'''\n",
        "print(\"===== Read File - remote =====\")\n",
        "# Get an image with text\n",
        "read_image_url = \"https://learn.microsoft.com/azure/ai-services/computer-vision/media/quickstarts/presentation.png\"\n",
        "\n",
        "# Call API with URL and raw response (allows you to get the operation location)\n",
        "read_response = computervision_client.read(read_image_url,  raw=True)\n",
        "\n",
        "# Get the operation location (URL with an ID at the end) from the response\n",
        "read_operation_location = read_response.headers[\"Operation-Location\"]\n",
        "# Grab the ID from the URL\n",
        "operation_id = read_operation_location.split(\"/\")[-1]\n",
        "\n",
        "# Call the \"GET\" API and wait for it to retrieve the results\n",
        "while True:\n",
        "    read_result = computervision_client.get_read_result(operation_id)\n",
        "    if read_result.status not in ['notStarted', 'running']:\n",
        "        break\n",
        "    time.sleep(1)\n",
        "\n",
        "# Print the detected text, line by line\n",
        "if read_result.status == OperationStatusCodes.succeeded:\n",
        "    for text_result in read_result.analyze_result.read_results:\n",
        "        for line in text_result.lines:\n",
        "            print(line.text)\n",
        "            print(line.bounding_box)\n",
        "print()\n",
        "'''\n",
        "END - Read File - remote\n",
        "'''\n",
        "\n",
        "print(\"End of Computer Vision quickstart.\")"
      ],
      "metadata": {
        "colab": {
          "base_uri": "https://localhost:8080/"
        },
        "id": "DXvOZSVl0RC7",
        "outputId": "53801f7a-0b7a-408a-b9f9-ab626cb2f9d2"
      },
      "execution_count": 6,
      "outputs": [
        {
          "output_type": "stream",
          "name": "stdout",
          "text": [
            "===== Read File - remote =====\n",
            "9:35 AM\n",
            "[130.0, 129.0, 215.0, 130.0, 215.0, 149.0, 130.0, 148.0]\n",
            "Conference room 154584354\n",
            "[131.0, 153.0, 224.0, 153.0, 224.0, 161.0, 131.0, 160.0]\n",
            "Town Hall\n",
            "[545.0, 179.0, 589.0, 180.0, 589.0, 190.0, 545.0, 189.0]\n",
            "9:00 AM - 10:00 AM\n",
            "[545.0, 192.0, 596.0, 193.0, 596.0, 200.0, 545.0, 199.0]\n",
            "Aston Buien\n",
            "[545.0, 201.0, 581.0, 202.0, 581.0, 208.0, 545.0, 208.0]\n",
            "Daily SCRUM\n",
            "[537.0, 258.0, 572.0, 258.0, 572.0, 265.0, 537.0, 265.0]\n",
            "10:00 AM-11:00 AM\n",
            "[537.0, 266.0, 590.0, 266.0, 590.0, 272.0, 537.0, 272.0]\n",
            "Charlathe de Crum\n",
            "[538.0, 274.0, 584.0, 273.0, 584.0, 279.0, 538.0, 279.0]\n",
            "Quarterly NI Hands\n",
            "[538.0, 296.0, 589.0, 296.0, 589.0, 302.0, 538.0, 302.0]\n",
            "11:00 AM-12:00 PM\n",
            "[537.0, 303.0, 590.0, 303.0, 590.0, 309.0, 537.0, 309.0]\n",
            "Bebek Shaman\n",
            "[538.0, 310.0, 577.0, 310.0, 577.0, 317.0, 538.0, 316.0]\n",
            "Thuare\n",
            "[505.0, 316.0, 518.0, 316.0, 517.0, 320.0, 505.0, 320.0]\n",
            "Weekly stand up\n",
            "[538.0, 333.0, 582.0, 332.0, 582.0, 339.0, 538.0, 339.0]\n",
            "12:00 PM-1:00 PM\n",
            "[538.0, 339.0, 586.0, 339.0, 586.0, 345.0, 538.0, 345.0]\n",
            "Delle Marckre\n",
            "[537.0, 347.0, 584.0, 346.0, 584.0, 353.0, 537.0, 353.0]\n",
            "Product review\n",
            "[538.0, 370.0, 577.0, 370.0, 577.0, 376.0, 538.0, 375.0]\n",
            "\n",
            "End of Computer Vision quickstart.\n"
          ]
        }
      ]
    },
    {
      "cell_type": "markdown",
      "source": [
        "# 新しいセクション"
      ],
      "metadata": {
        "id": "aaOFicX31qaV"
      }
    },
    {
      "cell_type": "code",
      "source": [],
      "metadata": {
        "id": "dNAaTd2o0QqX"
      },
      "execution_count": null,
      "outputs": []
    }
  ]
}